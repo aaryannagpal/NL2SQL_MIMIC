{
 "cells": [
  {
   "cell_type": "code",
   "execution_count": 1,
   "metadata": {},
   "outputs": [
    {
     "data": {
      "text/plain": [
       "'/home/aaryan/Documents/Ashoka/Sem_8/Capstone_Thesis/NL2SQL_MIMIC'"
      ]
     },
     "execution_count": 1,
     "metadata": {},
     "output_type": "execute_result"
    }
   ],
   "source": [
    "import pandas as pd\n",
    "pd.set_option('display.width', 2000)\n",
    "import os\n",
    "from tqdm import tqdm\n",
    "import sys\n",
    "\n",
    "os.chdir(\"../..\")\n",
    "os.getcwd()"
   ]
  },
  {
   "cell_type": "code",
   "execution_count": 2,
   "metadata": {},
   "outputs": [],
   "source": [
    "from src.preprocessor.ehrsql import DataProcessor, ResultCollector\n",
    "dataLoader = DataProcessor(\"data/dataset/raw\")\n",
    "dataLoader.load_data()"
   ]
  },
  {
   "cell_type": "code",
   "execution_count": 3,
   "metadata": {},
   "outputs": [],
   "source": [
    "train = dataLoader.train\n",
    "test = dataLoader.test\n",
    "valid = dataLoader.validation"
   ]
  },
  {
   "cell_type": "code",
   "execution_count": 4,
   "metadata": {},
   "outputs": [],
   "source": [
    "result_collector = ResultCollector(sql_column=\"true_query\", result_column=\"result\", max_workers = 20)"
   ]
  },
  {
   "cell_type": "code",
   "execution_count": 5,
   "metadata": {},
   "outputs": [
    {
     "name": "stderr",
     "output_type": "stream",
     "text": [
      "Running SQL queries: 100%|██████████| 4674/4674 [2:30:53<00:00,  1.94s/it]  \n"
     ]
    }
   ],
   "source": [
    "processed_train = result_collector.process_data(train)\n",
    "processed_train.to_csv(\"data/dataset/processed/train.csv\", index=False)"
   ]
  },
  {
   "cell_type": "code",
   "execution_count": 6,
   "metadata": {},
   "outputs": [
    {
     "name": "stderr",
     "output_type": "stream",
     "text": [
      "Running SQL queries: 100%|██████████| 934/934 [26:11<00:00,  1.68s/it]  \n"
     ]
    }
   ],
   "source": [
    "processed_test = result_collector.process_data(test)\n",
    "processed_test.to_csv(\"data/dataset/processed/test.csv\", index=False)"
   ]
  },
  {
   "cell_type": "code",
   "execution_count": 7,
   "metadata": {},
   "outputs": [
    {
     "name": "stderr",
     "output_type": "stream",
     "text": [
      "Running SQL queries: 100%|██████████| 931/931 [33:37<00:00,  2.17s/it]  \n"
     ]
    }
   ],
   "source": [
    "processed_valid = result_collector.process_data(valid)\n",
    "processed_valid.to_csv(\"data/dataset/processed/valid.csv\", index=False)"
   ]
  }
 ],
 "metadata": {
  "kernelspec": {
   "display_name": "College",
   "language": "python",
   "name": "python3"
  },
  "language_info": {
   "codemirror_mode": {
    "name": "ipython",
    "version": 3
   },
   "file_extension": ".py",
   "mimetype": "text/x-python",
   "name": "python",
   "nbconvert_exporter": "python",
   "pygments_lexer": "ipython3",
   "version": "3.9.16"
  }
 },
 "nbformat": 4,
 "nbformat_minor": 2
}
