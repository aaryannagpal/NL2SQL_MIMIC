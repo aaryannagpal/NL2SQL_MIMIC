{
 "cells": [
  {
   "cell_type": "code",
   "execution_count": null,
   "id": "7d854579",
   "metadata": {},
   "outputs": [],
   "source": [
    "import pandas as pd\n",
    "import numpy as np\n",
    "import os\n",
    "from tqdm import tqdm\n",
    "from pathlib import Path\n",
    "import sys\n",
    "\n",
    "PROJECT_ROOT = Path().resolve().parent\n",
    "sys.path.append(str(PROJECT_ROOT))\n",
    "\n",
    "from utils.query_evaluator import QueryEvaluator\n",
    "from config import MYSQL_DB_PATH"
   ]
  },
  {
   "cell_type": "code",
   "execution_count": 20,
   "id": "d3c94f2c",
   "metadata": {},
   "outputs": [],
   "source": [
    "test = ['fewshot']\n",
    "model_type = 'm2'\n",
    "raw_base  = os.path.join(PROJECT_ROOT, f'./results/raw/{model_type}')\n",
    "semi_base = os.path.join(PROJECT_ROOT, f'./results/semi_processed/{model_type}')\n",
    "final_base = os.path.join(PROJECT_ROOT, f'./results/processed/{model_type}')"
   ]
  },
  {
   "cell_type": "code",
   "execution_count": 21,
   "id": "3b002559",
   "metadata": {},
   "outputs": [],
   "source": [
    "evaluator = QueryEvaluator(db_path = MYSQL_DB_PATH)"
   ]
  },
  {
   "cell_type": "code",
   "execution_count": 23,
   "id": "0acb9dbe",
   "metadata": {},
   "outputs": [
    {
     "name": "stderr",
     "output_type": "stream",
     "text": [
      "  0%|          | 0/9 [00:00<?, ?it/s]"
     ]
    },
    {
     "name": "stdout",
     "output_type": "stream",
     "text": [
      "Processing Qwen_2.5_14b_results.csv...\n"
     ]
    },
    {
     "name": "stderr",
     "output_type": "stream",
     "text": [
      " 11%|█         | 1/9 [00:00<00:04,  1.97it/s]"
     ]
    },
    {
     "name": "stdout",
     "output_type": "stream",
     "text": [
      "Processing Phi4_results.csv...\n"
     ]
    },
    {
     "name": "stderr",
     "output_type": "stream",
     "text": [
      " 22%|██▏       | 2/9 [00:00<00:03,  2.20it/s]"
     ]
    },
    {
     "name": "stdout",
     "output_type": "stream",
     "text": [
      "Processing MedQwen_Reasoning_i1_results.csv...\n"
     ]
    },
    {
     "name": "stderr",
     "output_type": "stream",
     "text": [
      " 33%|███▎      | 3/9 [00:01<00:02,  2.23it/s]"
     ]
    },
    {
     "name": "stdout",
     "output_type": "stream",
     "text": [
      "Processing Qwen_1.5_14b_results.csv...\n"
     ]
    },
    {
     "name": "stderr",
     "output_type": "stream",
     "text": [
      " 44%|████▍     | 4/9 [00:01<00:02,  2.13it/s]"
     ]
    },
    {
     "name": "stdout",
     "output_type": "stream",
     "text": [
      "Processing Meditron_7b_results.csv...\n"
     ]
    },
    {
     "name": "stderr",
     "output_type": "stream",
     "text": [
      " 56%|█████▌    | 5/9 [00:02<00:01,  2.24it/s]"
     ]
    },
    {
     "name": "stdout",
     "output_type": "stream",
     "text": [
      "Processing Qwen_2_Math_7b_results.csv...\n"
     ]
    },
    {
     "name": "stderr",
     "output_type": "stream",
     "text": [
      " 67%|██████▋   | 6/9 [00:03<00:02,  1.32it/s]"
     ]
    },
    {
     "name": "stdout",
     "output_type": "stream",
     "text": [
      "Processing Medalpaca_13b_results.csv...\n"
     ]
    },
    {
     "name": "stderr",
     "output_type": "stream",
     "text": [
      " 78%|███████▊  | 7/9 [00:04<00:01,  1.38it/s]"
     ]
    },
    {
     "name": "stdout",
     "output_type": "stream",
     "text": [
      "Processing DuckDB_NSQL_7b_results.csv...\n"
     ]
    },
    {
     "name": "stderr",
     "output_type": "stream",
     "text": [
      " 89%|████████▉ | 8/9 [00:04<00:00,  1.55it/s]"
     ]
    },
    {
     "name": "stdout",
     "output_type": "stream",
     "text": [
      "Processing SQLCoder_7b_results.csv...\n"
     ]
    },
    {
     "name": "stderr",
     "output_type": "stream",
     "text": [
      "100%|██████████| 9/9 [00:05<00:00,  1.73it/s]\n"
     ]
    }
   ],
   "source": [
    "for t in test:\n",
    "    raw_dir  = os.path.join(raw_base,  t)\n",
    "    semi_dir = os.path.join(semi_base, t)\n",
    "    final_dir = os.path.join(final_base, t)\n",
    "\n",
    "    for fname in tqdm(os.listdir(raw_dir)):\n",
    "        print(f\"Processing {fname}...\")\n",
    "        raw_path  = os.path.join(raw_dir,  fname)\n",
    "        semi_path = os.path.join(semi_dir, fname)\n",
    "\n",
    "        df = pd.read_csv(raw_path)\n",
    "        df['valid_sql'] = df['valid_sql'].apply(lambda x: evaluator.clean_query(x))\n",
    "        \n",
    "        df.to_csv(semi_path, index=False)\n"
   ]
  },
  {
   "cell_type": "code",
   "execution_count": 25,
   "id": "bc0906ba",
   "metadata": {},
   "outputs": [
    {
     "data": {
      "text/plain": [
       "['Qwen_2.5_14b_results.csv',\n",
       " 'Phi4_results.csv',\n",
       " 'MedQwen_Reasoning_i1_results.csv',\n",
       " 'Qwen_1.5_14b_results.csv',\n",
       " 'Meditron_7b_results.csv',\n",
       " 'Qwen_2_Math_7b_results.csv',\n",
       " 'Medalpaca_13b_results.csv',\n",
       " 'DuckDB_NSQL_7b_results.csv',\n",
       " 'SQLCoder_7b_results.csv']"
      ]
     },
     "execution_count": 25,
     "metadata": {},
     "output_type": "execute_result"
    }
   ],
   "source": [
    "os.listdir(semi_dir)"
   ]
  }
 ],
 "metadata": {
  "kernelspec": {
   "display_name": "capstone",
   "language": "python",
   "name": "python3"
  },
  "language_info": {
   "codemirror_mode": {
    "name": "ipython",
    "version": 3
   },
   "file_extension": ".py",
   "mimetype": "text/x-python",
   "name": "python",
   "nbconvert_exporter": "python",
   "pygments_lexer": "ipython3",
   "version": "3.12.7"
  }
 },
 "nbformat": 4,
 "nbformat_minor": 5
}
