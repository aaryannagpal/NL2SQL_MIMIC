{
 "cells": [
  {
   "cell_type": "code",
   "execution_count": 1,
   "id": "6c06eb8f",
   "metadata": {},
   "outputs": [],
   "source": [
    "from utils.query_handler import QueryHandler"
   ]
  },
  {
   "cell_type": "code",
   "execution_count": 2,
   "id": "b39e76a6",
   "metadata": {},
   "outputs": [],
   "source": [
    "handler = QueryHandler()"
   ]
  },
  {
   "cell_type": "code",
   "execution_count": 3,
   "id": "33cb21a8",
   "metadata": {},
   "outputs": [],
   "source": [
    "from utils.dataset_creator import QueryTemplateGenerator, MimicSchema, BasicSelectGenerator"
   ]
  },
  {
   "cell_type": "code",
   "execution_count": 4,
   "id": "a9b3dde0",
   "metadata": {},
   "outputs": [
    {
     "name": "stdout",
     "output_type": "stream",
     "text": [
      "\n",
      "        Current Status:\n",
      "            max_workers set: 35\n",
      "            sample_size set: 150\n",
      "            sample values stored: False\n",
      "        \n",
      "Default Sample File found at /home/aaryan/Documents/Ashoka/Sem_8/Capstone_Thesis/NL2SQL_MIMIC/data/custom_dataset/sample_data/default.json\n",
      "\n",
      "        Current Status:\n",
      "            max_workers set: 35\n",
      "            sample_size set: 150\n",
      "            sample values stored: True\n",
      "        \n"
     ]
    }
   ],
   "source": [
    "schema = MimicSchema()\n",
    "schema.generate_sample_values()\n",
    "schema.check_status()"
   ]
  },
  {
   "cell_type": "code",
   "execution_count": 5,
   "id": "e1af1868",
   "metadata": {},
   "outputs": [],
   "source": [
    "template = QueryTemplateGenerator(schema)\n",
    "simple_query_generator = BasicSelectGenerator(schema)"
   ]
  },
  {
   "cell_type": "code",
   "execution_count": 6,
   "id": "7d9efced",
   "metadata": {},
   "outputs": [
    {
     "data": {
      "text/plain": [
       "(\"discharge_location = 'HEALTHCARE FACILITY'\",\n",
       " 'discharge location matching HEALTHCARE FACILITY')"
      ]
     },
     "execution_count": 6,
     "metadata": {},
     "output_type": "execute_result"
    }
   ],
   "source": [
    "template.random_filter(\"admissions\", \"discharge_location\")"
   ]
  },
  {
   "cell_type": "code",
   "execution_count": 7,
   "id": "ebd0527d",
   "metadata": {},
   "outputs": [
    {
     "name": "stderr",
     "output_type": "stream",
     "text": [
      "Generating Queries: 100%|██████████| 1000/1000 [00:00<00:00, 27740.84it/s]\n"
     ]
    },
    {
     "data": {
      "text/html": [
       "<div>\n",
       "<style scoped>\n",
       "    .dataframe tbody tr th:only-of-type {\n",
       "        vertical-align: middle;\n",
       "    }\n",
       "\n",
       "    .dataframe tbody tr th {\n",
       "        vertical-align: top;\n",
       "    }\n",
       "\n",
       "    .dataframe thead th {\n",
       "        text-align: right;\n",
       "    }\n",
       "</style>\n",
       "<table border=\"1\" class=\"dataframe\">\n",
       "  <thead>\n",
       "    <tr style=\"text-align: right;\">\n",
       "      <th></th>\n",
       "      <th>question</th>\n",
       "      <th>query</th>\n",
       "    </tr>\n",
       "  </thead>\n",
       "  <tbody>\n",
       "    <tr>\n",
       "      <th>0</th>\n",
       "      <td>What are the hadm id of patient procedures whe...</td>\n",
       "      <td>SELECT hadm_id FROM procedures_icd WHERE chart...</td>\n",
       "    </tr>\n",
       "    <tr>\n",
       "      <th>1</th>\n",
       "      <td>Get icd version, icd code for procedure codes ...</td>\n",
       "      <td>SELECT icd_version, icd_code FROM d_icd_proced...</td>\n",
       "    </tr>\n",
       "    <tr>\n",
       "      <th>2</th>\n",
       "      <td>Get all items for omr where seq num more than ...</td>\n",
       "      <td>SELECT * FROM omr WHERE seq_num &gt; 16 OR subjec...</td>\n",
       "    </tr>\n",
       "    <tr>\n",
       "      <th>3</th>\n",
       "      <td>Show me hadm id, subject id for patient diagno...</td>\n",
       "      <td>SELECT hadm_id, subject_id FROM diagnoses_icd ...</td>\n",
       "    </tr>\n",
       "    <tr>\n",
       "      <th>4</th>\n",
       "      <td>What are the storetime, value, hadm id of date...</td>\n",
       "      <td>SELECT storetime, value, hadm_id FROM datetime...</td>\n",
       "    </tr>\n",
       "    <tr>\n",
       "      <th>...</th>\n",
       "      <td>...</td>\n",
       "      <td>...</td>\n",
       "    </tr>\n",
       "    <tr>\n",
       "      <th>995</th>\n",
       "      <td>Get emar id for emar detail where product code...</td>\n",
       "      <td>SELECT emar_id FROM emar_detail WHERE product_...</td>\n",
       "    </tr>\n",
       "    <tr>\n",
       "      <th>996</th>\n",
       "      <td>List hadm id from ICU stays give me 100 examples.</td>\n",
       "      <td>SELECT hadm_id FROM icustays LIMIT 100 ;</td>\n",
       "    </tr>\n",
       "    <tr>\n",
       "      <th>997</th>\n",
       "      <td>List valuenum, warning from chart entries.</td>\n",
       "      <td>SELECT valuenum, warning FROM chartevents ;</td>\n",
       "    </tr>\n",
       "    <tr>\n",
       "      <th>998</th>\n",
       "      <td>Show me caregiver id for caregiver where careg...</td>\n",
       "      <td>SELECT caregiver_id FROM caregiver WHERE careg...</td>\n",
       "    </tr>\n",
       "    <tr>\n",
       "      <th>999</th>\n",
       "      <td>What are the dose unit rx, formulary drug cd o...</td>\n",
       "      <td>SELECT dose_unit_rx, formulary_drug_cd FROM pr...</td>\n",
       "    </tr>\n",
       "  </tbody>\n",
       "</table>\n",
       "<p>1000 rows × 2 columns</p>\n",
       "</div>"
      ],
      "text/plain": [
       "                                              question  \\\n",
       "0    What are the hadm id of patient procedures whe...   \n",
       "1    Get icd version, icd code for procedure codes ...   \n",
       "2    Get all items for omr where seq num more than ...   \n",
       "3    Show me hadm id, subject id for patient diagno...   \n",
       "4    What are the storetime, value, hadm id of date...   \n",
       "..                                                 ...   \n",
       "995  Get emar id for emar detail where product code...   \n",
       "996  List hadm id from ICU stays give me 100 examples.   \n",
       "997         List valuenum, warning from chart entries.   \n",
       "998  Show me caregiver id for caregiver where careg...   \n",
       "999  What are the dose unit rx, formulary drug cd o...   \n",
       "\n",
       "                                                 query  \n",
       "0    SELECT hadm_id FROM procedures_icd WHERE chart...  \n",
       "1    SELECT icd_version, icd_code FROM d_icd_proced...  \n",
       "2    SELECT * FROM omr WHERE seq_num > 16 OR subjec...  \n",
       "3    SELECT hadm_id, subject_id FROM diagnoses_icd ...  \n",
       "4    SELECT storetime, value, hadm_id FROM datetime...  \n",
       "..                                                 ...  \n",
       "995  SELECT emar_id FROM emar_detail WHERE product_...  \n",
       "996           SELECT hadm_id FROM icustays LIMIT 100 ;  \n",
       "997        SELECT valuenum, warning FROM chartevents ;  \n",
       "998  SELECT caregiver_id FROM caregiver WHERE careg...  \n",
       "999  SELECT dose_unit_rx, formulary_drug_cd FROM pr...  \n",
       "\n",
       "[1000 rows x 2 columns]"
      ]
     },
     "execution_count": 7,
     "metadata": {},
     "output_type": "execute_result"
    }
   ],
   "source": [
    "import random\n",
    "from tqdm import tqdm\n",
    "\n",
    "import pandas as pd\n",
    "\n",
    "store = []\n",
    "sql_errors = 0\n",
    "function_errors = 0\n",
    "queries = []\n",
    "\n",
    "query_df = pd.DataFrame.from_dict(simple_query_generator.generate(1000))\n",
    "query_df"
   ]
  },
  {
   "cell_type": "code",
   "execution_count": 8,
   "id": "117f6336",
   "metadata": {},
   "outputs": [],
   "source": [
    "import multiprocessing\n",
    "from tqdm import tqdm"
   ]
  },
  {
   "cell_type": "code",
   "execution_count": 9,
   "id": "9017d737",
   "metadata": {},
   "outputs": [],
   "source": [
    "def worker_process(query):\n",
    "    \"\"\"Worker function that creates its own connection\"\"\"\n",
    "    try:\n",
    "        # Create new handler with fresh connection\n",
    "        handler = QueryHandler()        \n",
    "        # Execute query and get results\n",
    "        result = handler.pretty_execute(query)\n",
    "        return {'success': True, 'result': (result, query)}\n",
    "    except Exception as e:\n",
    "        return {'success': False, 'result': query, 'error': str(e)}"
   ]
  },
  {
   "cell_type": "code",
   "execution_count": 10,
   "id": "f411dcb0",
   "metadata": {},
   "outputs": [],
   "source": [
    "def parallel_query_execution(queries, max_workers=4):\n",
    "    \"\"\"Execute queries in parallel with proper SQLite handling\"\"\"\n",
    "    if max_workers is None:\n",
    "        max_workers = min(4, multiprocessing.cpu_count())  # Conservative for SQLite\n",
    "    \n",
    "    results = []\n",
    "    failed_queries = []\n",
    "    \n",
    "    with multiprocessing.Pool(max_workers) as pool:\n",
    "        # Create argument tuples (query)\n",
    "        tasks = [(query) for query in queries]\n",
    "        \n",
    "        # Process with progress bar\n",
    "        with tqdm(total=len(queries), desc=\"Executing queries\") as pbar:\n",
    "            for result in pool.imap_unordered(worker_process, tasks, chunksize=5):\n",
    "                if result['success']:\n",
    "                    results.append((result['result'][0], result['result'][1]))\n",
    "                else:\n",
    "                    failed_queries.append(result['result'])\n",
    "                    print(f\"Query failed: {result['error']}\")\n",
    "                pbar.update(1)\n",
    "    \n",
    "    print(f\"\\nCompleted {len(results)}/{len(queries)} queries successfully\")\n",
    "    print(f\"Failed queries: {len(failed_queries)}\")\n",
    "    return results"
   ]
  },
  {
   "cell_type": "code",
   "execution_count": 11,
   "id": "db5edc75",
   "metadata": {},
   "outputs": [
    {
     "name": "stderr",
     "output_type": "stream",
     "text": [
      "Executing queries:   2%|▏         | 16/1000 [00:14<14:18,  1.15it/s]"
     ]
    },
    {
     "ename": "",
     "evalue": "",
     "output_type": "error",
     "traceback": [
      "\u001b[1;31mThe Kernel crashed while executing code in the current cell or a previous cell. \n",
      "\u001b[1;31mPlease review the code in the cell(s) to identify a possible cause of the failure. \n",
      "\u001b[1;31mClick <a href='https://aka.ms/vscodeJupyterKernelCrash'>here</a> for more info. \n",
      "\u001b[1;31mView Jupyter <a href='command:jupyter.viewOutput'>log</a> for further details."
     ]
    }
   ],
   "source": [
    "results = parallel_query_execution(list(query_df[\"query\"]))"
   ]
  },
  {
   "cell_type": "code",
   "execution_count": null,
   "id": "d9ce363a",
   "metadata": {},
   "outputs": [],
   "source": [
    "for i in range(0,1000,50):\n",
    "    print(results[i][1])\n",
    "    display(results[i][0])"
   ]
  },
  {
   "cell_type": "code",
   "execution_count": null,
   "id": "e6124e5b",
   "metadata": {},
   "outputs": [],
   "source": [
    "import sqlite3\n",
    "import pandas as pd\n",
    "from datetime import datetime\n",
    "\n",
    "def save_sqlite_schema_to_markdown(db_path, output_file='database_schema.md'):\n",
    "    \"\"\"\n",
    "    Save complete SQLite database schema to a Markdown file with:\n",
    "    - Table structures\n",
    "    - Column details\n",
    "    - Foreign keys\n",
    "    \"\"\"\n",
    "    \n",
    "    with sqlite3.connect(db_path) as conn, \\\n",
    "         open(output_file, 'w') as f:\n",
    "        \n",
    "        # Write Markdown header\n",
    "        f.write(\"# SQLite Database Schema Report\\n\\n\")\n",
    "        f.write(f\"**Generated**: {datetime.now().strftime('%Y-%m-%d %H:%M:%S')}\\n\")\n",
    "        f.write(f\"**Database**: `{db_path}`\\n\")\n",
    "        f.write(\"\\n---\\n\\n\")\n",
    "        \n",
    "        # Get all tables\n",
    "        tables = pd.read_sql(\"\"\"\n",
    "            SELECT name \n",
    "            FROM sqlite_master \n",
    "            WHERE type='table' \n",
    "            AND name NOT LIKE 'sqlite_%'\n",
    "            ORDER BY name;\n",
    "        \"\"\", conn)\n",
    "        \n",
    "        for table in tables['name']:\n",
    "            # Write table header\n",
    "            f.write(f\"## Table: `{table}`\\n\\n\")\n",
    "            \n",
    "            # Get and write table info\n",
    "            table_info = pd.read_sql(f\"PRAGMA table_info({table});\", conn)\n",
    "            f.write(\"### Columns\\n\\n\")\n",
    "            f.write(table_info.to_markdown(index=False, tablefmt=\"github\") + \"\\n\\n\")\n",
    "            \n",
    "            # Get foreign keys if they exist\n",
    "            fkeys = pd.read_sql(f\"PRAGMA foreign_key_list({table});\", conn)\n",
    "            if not fkeys.empty:\n",
    "                f.write(\"### Foreign Keys\\n\\n\")\n",
    "                f.write(fkeys.to_markdown(index=False, tablefmt=\"github\") + \"\\n\\n\")\n",
    "            \n",
    "            # Get table creation SQL\n",
    "            creation_sql = pd.read_sql(f\"\"\"\n",
    "                SELECT sql \n",
    "                FROM sqlite_master \n",
    "                WHERE name = '{table}' \n",
    "                AND type = 'table';\n",
    "            \"\"\", conn).iloc[0,0]\n",
    "            \n",
    "            f.write(f\"### Creation SQL\\n\\n```sql\\n{creation_sql}\\n```\\n\\n\")\n",
    "            f.write(\"---\\n\\n\")\n",
    "        \n",
    "        print(f\"Markdown schema saved to {output_file}\")\n",
    "\n",
    "# Usage\n",
    "save_sqlite_schema_to_markdown('data/mimic_data/mimic4.db', 'mimic4_schema.md')"
   ]
  }
 ],
 "metadata": {
  "kernelspec": {
   "display_name": "College",
   "language": "python",
   "name": "python3"
  },
  "language_info": {
   "codemirror_mode": {
    "name": "ipython",
    "version": 3
   },
   "file_extension": ".py",
   "mimetype": "text/x-python",
   "name": "python",
   "nbconvert_exporter": "python",
   "pygments_lexer": "ipython3",
   "version": "3.9.16"
  }
 },
 "nbformat": 4,
 "nbformat_minor": 5
}
