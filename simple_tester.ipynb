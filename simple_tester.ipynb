{
 "cells": [
  {
   "cell_type": "code",
   "execution_count": 1,
   "id": "6c06eb8f",
   "metadata": {},
   "outputs": [],
   "source": [
    "from utils.query_handler import QueryHandler"
   ]
  },
  {
   "cell_type": "code",
   "execution_count": 2,
   "id": "b39e76a6",
   "metadata": {},
   "outputs": [],
   "source": [
    "handler = QueryHandler()"
   ]
  },
  {
   "cell_type": "code",
   "execution_count": 3,
   "id": "33cb21a8",
   "metadata": {},
   "outputs": [],
   "source": [
    "from utils.dataset_creator import QueryTemplateGenerator, MimicSchema"
   ]
  },
  {
   "cell_type": "code",
   "execution_count": 4,
   "id": "a9b3dde0",
   "metadata": {},
   "outputs": [
    {
     "name": "stdout",
     "output_type": "stream",
     "text": [
      "\n",
      "        Current Status:\n",
      "            max_workers set: 35\n",
      "            sample_size set: 150\n",
      "            sample values stored: False\n",
      "        \n",
      "Default Sample File found at /home/aaryan/Documents/Ashoka/Sem_8/Capstone_Thesis/NL2SQL_MIMIC/data/custom_dataset/sample_data/default.json\n",
      "\n",
      "        Current Status:\n",
      "            max_workers set: 35\n",
      "            sample_size set: 150\n",
      "            sample values stored: True\n",
      "        \n"
     ]
    }
   ],
   "source": [
    "schema = MimicSchema()\n",
    "schema.generate_sample_values()\n",
    "schema.check_status()"
   ]
  },
  {
   "cell_type": "code",
   "execution_count": 5,
   "id": "e1af1868",
   "metadata": {},
   "outputs": [],
   "source": [
    "import random\n",
    "template = QueryTemplateGenerator(schema)"
   ]
  },
  {
   "cell_type": "code",
   "execution_count": 7,
   "id": "80d5edb8",
   "metadata": {},
   "outputs": [],
   "source": [
    "def _get_entity_type(table: str) -> str:\n",
    "    \"\"\"Get a descriptive entity name for a table\"\"\"\n",
    "    entity_mappings = {\n",
    "        'patients': 'patients',\n",
    "        'admissions': 'hospital admissions',\n",
    "        'diagnoses_icd': 'patient diagnoses',\n",
    "        'procedures_icd': 'patient procedures',\n",
    "        'prescriptions': 'medications',\n",
    "        'labevents': 'lab results',\n",
    "        'chartevents': 'chart entries',\n",
    "        'icustays': 'ICU stays',\n",
    "        'transfers': 'patient transfers',\n",
    "        'services': 'hospital services',\n",
    "        'microbiologyevents': 'microbiology results',\n",
    "        'outputevents': 'patient outputs',\n",
    "        'inputevents': 'patient inputs',\n",
    "        'emar': 'medication administration records',\n",
    "        'pharmacy': 'pharmacy orders',\n",
    "        'poe': 'provider orders',\n",
    "        'd_icd_diagnoses': 'diagnosis codes',\n",
    "        'd_icd_procedures': 'procedure codes',\n",
    "        'd_labitems': 'laboratory tests',\n",
    "        'd_items': 'charted items'\n",
    "    }\n",
    "    \n",
    "    return entity_mappings.get(table, table.replace('_', ' '))"
   ]
  },
  {
   "cell_type": "code",
   "execution_count": 8,
   "id": "2a07412b",
   "metadata": {},
   "outputs": [],
   "source": [
    "count = 1\n",
    "results = []"
   ]
  },
  {
   "cell_type": "code",
   "execution_count": 17,
   "id": "c321bf2a",
   "metadata": {},
   "outputs": [
    {
     "data": {
      "text/plain": [
       "('microbiologyevents', ['ab_name', 'comments', 'storedate', 'subject_id'])"
      ]
     },
     "execution_count": 17,
     "metadata": {},
     "output_type": "execute_result"
    }
   ],
   "source": [
    "\n",
    "# for _ in range(count):\n",
    "# Choose random table\n",
    "table = random.choice(schema.tables)\n",
    "\n",
    "# Choose random columns to select\n",
    "columns = template.random_columns(table, min_cols=1, max_cols=4)\n",
    "\n",
    "table, columns"
   ]
  },
  {
   "cell_type": "code",
   "execution_count": 19,
   "id": "7c71b9c4",
   "metadata": {},
   "outputs": [
    {
     "data": {
      "text/plain": [
       "True"
      ]
     },
     "execution_count": 19,
     "metadata": {},
     "output_type": "execute_result"
    }
   ],
   "source": [
    "use_where = random.random() > 0.3\n",
    "where_clause = \"\"\n",
    "nl_filter = \"\"\n",
    "\n",
    "use_where"
   ]
  },
  {
   "cell_type": "code",
   "execution_count": 36,
   "id": "88b2dae9",
   "metadata": {},
   "outputs": [
    {
     "data": {
      "text/plain": [
       "(\"WHERE spec_type_desc IN ('PERIPHERAL BLOOD LYMPHOCYTES', 'BRONCHIAL WASHINGS', 'FOOT CULTURE') AND test_seq NOT IN (2, 10, 9, 1, 13, 4, 11, 18, 16) AND quantity <> '10,000-100,000 CFU/mL'\",\n",
       " 'where spec type desc among PERIPHERAL BLOOD LYMPHOCYTES, BRONCHIAL WASHINGS, FOOT CULTURE and test seq not among 2, 10, 9, 1, 13, 4, 11, 18, 16 and quantity excluding 10,000-100,000 CFU/mL')"
      ]
     },
     "execution_count": 36,
     "metadata": {},
     "output_type": "execute_result"
    }
   ],
   "source": [
    "if use_where:\n",
    "    # Choose how many conditions to include\n",
    "    num_conditions = random.choices([1, 2, 3], weights=[0.1, 0.3, 0.6])[0]\n",
    "    conditions = []\n",
    "    nl_conditions = []\n",
    "\n",
    "    for i in range(num_conditions):\n",
    "        # Choose a random column for the condition\n",
    "        filter_col = random.choice(template.schema.columns[table])\n",
    "        \n",
    "        filter_sql, filter_nl = template.random_filter(table, filter_col)\n",
    "        if filter_sql and filter_nl:  # Ensure we got valid filters\n",
    "            conditions.append(filter_sql)\n",
    "            nl_conditions.append(filter_nl)\n",
    "    \n",
    "    if len(conditions) > 1:\n",
    "        logical_ops = [random.choice([\"AND\", \"OR\"]) for _ in range(len(conditions)-1)]\n",
    "        where_clause = \"WHERE \" + conditions[0]\n",
    "        nl_filter = \"where \" + nl_conditions[0]\n",
    "        \n",
    "        for i in range(1, len(conditions)):\n",
    "            op = logical_ops[i-1]\n",
    "            where_clause += f\" {op} {conditions[i]}\"\n",
    "            nl_filter += f\" {op.lower()} {nl_conditions[i]}\"\n",
    "    elif len(conditions) == 1:\n",
    "        where_clause = f\"WHERE {conditions[0]}\"\n",
    "        nl_filter = f\"where {nl_conditions[0]}\"\n",
    "\n",
    "where_clause, nl_filter"
   ]
  },
  {
   "cell_type": "code",
   "execution_count": 38,
   "id": "7864cf54",
   "metadata": {},
   "outputs": [
    {
     "data": {
      "text/plain": [
       "True"
      ]
     },
     "execution_count": 38,
     "metadata": {},
     "output_type": "execute_result"
    }
   ],
   "source": [
    "use_order = random.random() > 0.7\n",
    "order_clause = \"\"\n",
    "nl_order = \"\"\n",
    "\n",
    "use_order"
   ]
  },
  {
   "cell_type": "code",
   "execution_count": 49,
   "id": "5ba1809f",
   "metadata": {},
   "outputs": [
    {
     "data": {
      "text/plain": [
       "('ORDER BY ab_name DESC', 'ordered by ab name greatest first')"
      ]
     },
     "execution_count": 49,
     "metadata": {},
     "output_type": "execute_result"
    }
   ],
   "source": [
    "if use_order:\n",
    "    order_col = random.choice(columns)\n",
    "    order_dir = random.choice(template.sort_dirs)\n",
    "    order_clause = f\"ORDER BY {order_col} {order_dir}\"\n",
    "    \n",
    "    nl_dir = random.choice(template.sort_phrases[order_dir])\n",
    "    nl_order = random.choice(template.order_phrases).format(order_col=order_col.replace('_', ' '), nl_dir=nl_dir)\n",
    "\n",
    "order_clause, nl_order"
   ]
  },
  {
   "cell_type": "code",
   "execution_count": 50,
   "id": "8b65f22b",
   "metadata": {},
   "outputs": [
    {
     "data": {
      "text/plain": [
       "True"
      ]
     },
     "execution_count": 50,
     "metadata": {},
     "output_type": "execute_result"
    }
   ],
   "source": [
    "\n",
    "# Decide if we'll include LIMIT\n",
    "use_limit = random.random() > 0.5\n",
    "limit_clause = \"\"\n",
    "nl_limit = \"\"\n",
    "\n",
    "use_limit\n"
   ]
  },
  {
   "cell_type": "code",
   "execution_count": 65,
   "id": "16a0ac4a",
   "metadata": {},
   "outputs": [
    {
     "data": {
      "text/plain": [
       "('LIMIT 20', 'return a maximum of 20 items')"
      ]
     },
     "execution_count": 65,
     "metadata": {},
     "output_type": "execute_result"
    }
   ],
   "source": [
    "\n",
    "if use_limit:\n",
    "    limit = random.choice(template.limit_values)\n",
    "    limit_clause = f\"LIMIT {limit}\"\n",
    "    \n",
    "    # Use more natural language for limit\n",
    "    nl_limit = random.choice(template.limit_phrases).format(limit=limit)\n",
    "\n",
    "limit_clause, nl_limit"
   ]
  },
  {
   "cell_type": "code",
   "execution_count": 66,
   "id": "491d1d47",
   "metadata": {},
   "outputs": [
    {
     "data": {
      "text/plain": [
       "\"SELECT ab_name, comments, storedate, subject_id FROM microbiologyevents WHERE spec_type_desc IN ('PERIPHERAL BLOOD LYMPHOCYTES', 'BRONCHIAL WASHINGS', 'FOOT CULTURE') AND test_seq NOT IN (2, 10, 9, 1, 13, 4, 11, 18, 16) AND quantity <> '10,000-100,000 CFU/mL' ORDER BY ab_name DESC LIMIT 20\""
      ]
     },
     "execution_count": 66,
     "metadata": {},
     "output_type": "execute_result"
    }
   ],
   "source": [
    "\n",
    "# Build the complete SQL query\n",
    "sql_parts = [\n",
    "    f\"SELECT {', '.join(columns)} FROM {table}\",\n",
    "    where_clause,\n",
    "    order_clause,\n",
    "    limit_clause\n",
    "]\n",
    "sql_query = \" \".join([part for part in sql_parts if part])\n",
    "\n",
    "sql_query"
   ]
  },
  {
   "cell_type": "code",
   "execution_count": 67,
   "id": "ee0c073e",
   "metadata": {},
   "outputs": [
    {
     "data": {
      "text/plain": [
       "'Show me ab name, comments, storedate, subject id for microbiology results where spec type desc among PERIPHERAL BLOOD LYMPHOCYTES, BRONCHIAL WASHINGS, FOOT CULTURE and test seq not among 2, 10, 9, 1, 13, 4, 11, 18, 16 and quantity excluding 10,000-100,000 CFU/mL ordered by ab name greatest first return a maximum of 20 items.'"
      ]
     },
     "execution_count": 67,
     "metadata": {},
     "output_type": "execute_result"
    }
   ],
   "source": [
    "\n",
    "\n",
    "# Build the NL question with more natural language\n",
    "entity_type = _get_entity_type(table)\n",
    "\n",
    "# Generate natural column descriptions\n",
    "column_descriptions = []\n",
    "for col in columns:\n",
    "    # Make column names more readable\n",
    "    readable_col = col.replace('_', ' ')\n",
    "    column_descriptions.append(readable_col)\n",
    "\n",
    "# Choose a natural query template based on context\n",
    "query_templates = [\n",
    "    f\"Show me {', '.join(column_descriptions)} for {entity_type}\",\n",
    "    f\"What are the {', '.join(column_descriptions)} of {entity_type}\",\n",
    "    f\"List {', '.join(column_descriptions)} from {entity_type}\",\n",
    "    f\"Get {', '.join(column_descriptions)} for {entity_type}\"\n",
    "]\n",
    "\n",
    "# Choose a template but bias toward the first one for simplicity\n",
    "template_weights = [0.4, 0.2, 0.2, 0.2]\n",
    "base_question = random.choices(query_templates, weights=template_weights)[0]\n",
    "\n",
    "# Build the complete NL question\n",
    "nl_parts = [\n",
    "    base_question,\n",
    "    nl_filter,\n",
    "    nl_order,\n",
    "    nl_limit\n",
    "]\n",
    "nl_question = \" \".join([part for part in nl_parts if part])\n",
    "\n",
    "# Add a period at the end if it doesn't have one\n",
    "if not nl_question.endswith('.'):\n",
    "    nl_question += '.'\n",
    "\n",
    "# Capitalize the first letter\n",
    "nl_question = nl_question[0].upper() + nl_question[1:]\n",
    "\n",
    "nl_question"
   ]
  },
  {
   "cell_type": "code",
   "execution_count": null,
   "id": "eb045c1b",
   "metadata": {},
   "outputs": [],
   "source": [
    "\n",
    "results.append({\"question\": nl_question, \"query\": sql_query})\n"
   ]
  }
 ],
 "metadata": {
  "kernelspec": {
   "display_name": "College",
   "language": "python",
   "name": "python3"
  },
  "language_info": {
   "codemirror_mode": {
    "name": "ipython",
    "version": 3
   },
   "file_extension": ".py",
   "mimetype": "text/x-python",
   "name": "python",
   "nbconvert_exporter": "python",
   "pygments_lexer": "ipython3",
   "version": "3.9.16"
  }
 },
 "nbformat": 4,
 "nbformat_minor": 5
}
